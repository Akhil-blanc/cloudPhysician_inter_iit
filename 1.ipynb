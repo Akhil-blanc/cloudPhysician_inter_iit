{
 "cells": [
  {
   "cell_type": "code",
   "execution_count": 3,
   "metadata": {},
   "outputs": [
    {
     "data": {
      "text/html": [
       "<div>\n",
       "<style scoped>\n",
       "    .dataframe tbody tr th:only-of-type {\n",
       "        vertical-align: middle;\n",
       "    }\n",
       "\n",
       "    .dataframe tbody tr th {\n",
       "        vertical-align: top;\n",
       "    }\n",
       "\n",
       "    .dataframe thead th {\n",
       "        text-align: right;\n",
       "    }\n",
       "</style>\n",
       "<table border=\"1\" class=\"dataframe\">\n",
       "  <thead>\n",
       "    <tr style=\"text-align: right;\">\n",
       "      <th></th>\n",
       "      <th>image_name</th>\n",
       "      <th>HR</th>\n",
       "      <th>SBP</th>\n",
       "      <th>DBP</th>\n",
       "      <th>MAP</th>\n",
       "      <th>SPO2</th>\n",
       "      <th>RR</th>\n",
       "      <th>HR_W</th>\n",
       "      <th>RR_W</th>\n",
       "      <th>SPO2_W</th>\n",
       "    </tr>\n",
       "  </thead>\n",
       "  <tbody>\n",
       "    <tr>\n",
       "      <th>0</th>\n",
       "      <td>hcgranchi_sicu_mon--326_2022_11_13_23_31_12.jpeg</td>\n",
       "      <td>[0.7734375, 0.15486111111111112, 0.0640625, 0....</td>\n",
       "      <td>[0.7625, 0.26944444444444443, 0.046875, 0.0583...</td>\n",
       "      <td>[0.869921875, 0.26875, 0.04296875, 0.059722222...</td>\n",
       "      <td>[0.9640625, 0.25416666666666665, 0.0234375, 0....</td>\n",
       "      <td>[0.780859375, 0.5243055555555556, 0.08203125, ...</td>\n",
       "      <td>[0.763671875, 0.6430555555555556, 0.04921875, ...</td>\n",
       "      <td>[0.355859375, 0.39375, 0.63046875, 0.090277777...</td>\n",
       "      <td>[0.328515625, 0.64375, 0.01015625, 0.004166666...</td>\n",
       "      <td>[0.310546875, 0.5333333333333333, 0.59609375, ...</td>\n",
       "    </tr>\n",
       "    <tr>\n",
       "      <th>1</th>\n",
       "      <td>hcgranchi_sicu_mon--326_2022_11_11_2_0_43.jpeg</td>\n",
       "      <td>[0.791796875, 0.14305555555555555, 0.06640625,...</td>\n",
       "      <td>NaN</td>\n",
       "      <td>NaN</td>\n",
       "      <td>[0.90546875, 0.2520833333333333, 0.0453125, 0....</td>\n",
       "      <td>[0.801953125, 0.47638888888888886, 0.07890625,...</td>\n",
       "      <td>[0.78359375, 0.5875, 0.0515625, 0.088888888888...</td>\n",
       "      <td>[0.354296875, 0.3472222222222222, 0.69609375, ...</td>\n",
       "      <td>[0.348828125, 0.5743055555555555, 0.67578125, ...</td>\n",
       "      <td>[0.34609375, 0.46458333333333335, 0.6765625, 0...</td>\n",
       "    </tr>\n",
       "    <tr>\n",
       "      <th>2</th>\n",
       "      <td>hcgranchi_sicu_mon--326_2022_11_19_7_30_46.jpeg</td>\n",
       "      <td>[0.782421875, 0.19444444444444445, 0.07890625,...</td>\n",
       "      <td>[0.765234375, 0.3090277777777778, 0.05078125, ...</td>\n",
       "      <td>[0.86875, 0.30625, 0.040625, 0.06527777777777778]</td>\n",
       "      <td>[0.962890625, 0.29583333333333334, 0.02265625,...</td>\n",
       "      <td>[0.78203125, 0.5680555555555555, 0.0796875, 0....</td>\n",
       "      <td>[0.76796875, 0.6930555555555555, 0.065625, 0.0...</td>\n",
       "      <td>[0.351953125, 0.4409722222222222, 0.60546875, ...</td>\n",
       "      <td>[0.340625, 0.6833333333333333, 0.6140625, 0.07...</td>\n",
       "      <td>[0.340234375, 0.5805555555555556, 0.62890625, ...</td>\n",
       "    </tr>\n",
       "    <tr>\n",
       "      <th>3</th>\n",
       "      <td>hcgranchi_sicu_mon--326_2022_11_23_2_1_7.jpeg</td>\n",
       "      <td>[0.73828125, 0.10694444444444444, 0.065625, 0....</td>\n",
       "      <td>NaN</td>\n",
       "      <td>[0.826953125, 0.2, 0.04765625, 0.05]</td>\n",
       "      <td>NaN</td>\n",
       "      <td>[0.7375, 0.4083333333333333, 0.0640625, 0.0861...</td>\n",
       "      <td>[0.739453125, 0.5083333333333333, 0.06796875, ...</td>\n",
       "      <td>[0.323828125, 0.28055555555555556, 0.64140625,...</td>\n",
       "      <td>[0.3265625, 0.4986111111111111, 0.640625, 0.07...</td>\n",
       "      <td>[0.325, 0.40555555555555556, 0.6390625, 0.0944...</td>\n",
       "    </tr>\n",
       "    <tr>\n",
       "      <th>4</th>\n",
       "      <td>hcgranchi_sicu_mon--326_2022_11_22_8_0_42.jpeg</td>\n",
       "      <td>[0.71015625, 0.08888888888888889, 0.0609375, 0...</td>\n",
       "      <td>[0.7109375, 0.19444444444444445, 0.0515625, 0....</td>\n",
       "      <td>[0.804296875, 0.18958333333333333, 0.04765625,...</td>\n",
       "      <td>[0.8921875, 0.18125, 0.028125, 0.0375]</td>\n",
       "      <td>[0.730859375, 0.42430555555555555, 0.07890625,...</td>\n",
       "      <td>[0.718359375, 0.5347222222222222, 0.05546875, ...</td>\n",
       "      <td>[0.323046875, 0.2875, 0.63046875, 0.0916666666...</td>\n",
       "      <td>[0.321875, 0.5229166666666667, 0.6265625, 0.08...</td>\n",
       "      <td>[0.31953125, 0.42569444444444443, 0.628125, 0....</td>\n",
       "    </tr>\n",
       "  </tbody>\n",
       "</table>\n",
       "</div>"
      ],
      "text/plain": [
       "                                         image_name  \\\n",
       "0  hcgranchi_sicu_mon--326_2022_11_13_23_31_12.jpeg   \n",
       "1    hcgranchi_sicu_mon--326_2022_11_11_2_0_43.jpeg   \n",
       "2   hcgranchi_sicu_mon--326_2022_11_19_7_30_46.jpeg   \n",
       "3     hcgranchi_sicu_mon--326_2022_11_23_2_1_7.jpeg   \n",
       "4    hcgranchi_sicu_mon--326_2022_11_22_8_0_42.jpeg   \n",
       "\n",
       "                                                  HR  \\\n",
       "0  [0.7734375, 0.15486111111111112, 0.0640625, 0....   \n",
       "1  [0.791796875, 0.14305555555555555, 0.06640625,...   \n",
       "2  [0.782421875, 0.19444444444444445, 0.07890625,...   \n",
       "3  [0.73828125, 0.10694444444444444, 0.065625, 0....   \n",
       "4  [0.71015625, 0.08888888888888889, 0.0609375, 0...   \n",
       "\n",
       "                                                 SBP  \\\n",
       "0  [0.7625, 0.26944444444444443, 0.046875, 0.0583...   \n",
       "1                                                NaN   \n",
       "2  [0.765234375, 0.3090277777777778, 0.05078125, ...   \n",
       "3                                                NaN   \n",
       "4  [0.7109375, 0.19444444444444445, 0.0515625, 0....   \n",
       "\n",
       "                                                 DBP  \\\n",
       "0  [0.869921875, 0.26875, 0.04296875, 0.059722222...   \n",
       "1                                                NaN   \n",
       "2  [0.86875, 0.30625, 0.040625, 0.06527777777777778]   \n",
       "3               [0.826953125, 0.2, 0.04765625, 0.05]   \n",
       "4  [0.804296875, 0.18958333333333333, 0.04765625,...   \n",
       "\n",
       "                                                 MAP  \\\n",
       "0  [0.9640625, 0.25416666666666665, 0.0234375, 0....   \n",
       "1  [0.90546875, 0.2520833333333333, 0.0453125, 0....   \n",
       "2  [0.962890625, 0.29583333333333334, 0.02265625,...   \n",
       "3                                                NaN   \n",
       "4             [0.8921875, 0.18125, 0.028125, 0.0375]   \n",
       "\n",
       "                                                SPO2  \\\n",
       "0  [0.780859375, 0.5243055555555556, 0.08203125, ...   \n",
       "1  [0.801953125, 0.47638888888888886, 0.07890625,...   \n",
       "2  [0.78203125, 0.5680555555555555, 0.0796875, 0....   \n",
       "3  [0.7375, 0.4083333333333333, 0.0640625, 0.0861...   \n",
       "4  [0.730859375, 0.42430555555555555, 0.07890625,...   \n",
       "\n",
       "                                                  RR  \\\n",
       "0  [0.763671875, 0.6430555555555556, 0.04921875, ...   \n",
       "1  [0.78359375, 0.5875, 0.0515625, 0.088888888888...   \n",
       "2  [0.76796875, 0.6930555555555555, 0.065625, 0.0...   \n",
       "3  [0.739453125, 0.5083333333333333, 0.06796875, ...   \n",
       "4  [0.718359375, 0.5347222222222222, 0.05546875, ...   \n",
       "\n",
       "                                                HR_W  \\\n",
       "0  [0.355859375, 0.39375, 0.63046875, 0.090277777...   \n",
       "1  [0.354296875, 0.3472222222222222, 0.69609375, ...   \n",
       "2  [0.351953125, 0.4409722222222222, 0.60546875, ...   \n",
       "3  [0.323828125, 0.28055555555555556, 0.64140625,...   \n",
       "4  [0.323046875, 0.2875, 0.63046875, 0.0916666666...   \n",
       "\n",
       "                                                RR_W  \\\n",
       "0  [0.328515625, 0.64375, 0.01015625, 0.004166666...   \n",
       "1  [0.348828125, 0.5743055555555555, 0.67578125, ...   \n",
       "2  [0.340625, 0.6833333333333333, 0.6140625, 0.07...   \n",
       "3  [0.3265625, 0.4986111111111111, 0.640625, 0.07...   \n",
       "4  [0.321875, 0.5229166666666667, 0.6265625, 0.08...   \n",
       "\n",
       "                                              SPO2_W  \n",
       "0  [0.310546875, 0.5333333333333333, 0.59609375, ...  \n",
       "1  [0.34609375, 0.46458333333333335, 0.6765625, 0...  \n",
       "2  [0.340234375, 0.5805555555555556, 0.62890625, ...  \n",
       "3  [0.325, 0.40555555555555556, 0.6390625, 0.0944...  \n",
       "4  [0.31953125, 0.42569444444444443, 0.628125, 0....  "
      ]
     },
     "execution_count": 3,
     "metadata": {},
     "output_type": "execute_result"
    }
   ],
   "source": [
    "import pandas as pd\n",
    "df=pd.read_csv(\"Classification Dataset-20230130T194932Z-001\\Classification Dataset\\BPL-EliteView-EV100-C.csv\")\n",
    "df.head()"
   ]
  },
  {
   "cell_type": "code",
   "execution_count": 4,
   "metadata": {},
   "outputs": [
    {
     "name": "stdout",
     "output_type": "stream",
     "text": [
      "<class 'pandas.core.frame.DataFrame'>\n",
      "RangeIndex: 250 entries, 0 to 249\n",
      "Data columns (total 10 columns):\n",
      " #   Column      Non-Null Count  Dtype \n",
      "---  ------      --------------  ----- \n",
      " 0   image_name  250 non-null    object\n",
      " 1   HR          244 non-null    object\n",
      " 2   SBP         216 non-null    object\n",
      " 3   DBP         209 non-null    object\n",
      " 4   MAP         236 non-null    object\n",
      " 5   SPO2        235 non-null    object\n",
      " 6   RR          234 non-null    object\n",
      " 7   HR_W        249 non-null    object\n",
      " 8   RR_W        247 non-null    object\n",
      " 9   SPO2_W      237 non-null    object\n",
      "dtypes: object(10)\n",
      "memory usage: 19.7+ KB\n"
     ]
    }
   ],
   "source": [
    "df.info()"
   ]
  },
  {
   "cell_type": "code",
   "execution_count": 5,
   "metadata": {},
   "outputs": [
    {
     "data": {
      "text/plain": [
       "array([], dtype=int64)"
      ]
     },
     "execution_count": 5,
     "metadata": {},
     "output_type": "execute_result"
    }
   ],
   "source": [
    "k=df[df['image_name']=='lifecarehospital_icu_mon--212_2022_9_7_13_56_29.jpeg'].index.values\n",
    "k"
   ]
  },
  {
   "cell_type": "code",
   "execution_count": 6,
   "metadata": {},
   "outputs": [],
   "source": [
    "import cv2\n",
    "\n",
    "image=cv2.imread('Classification Dataset-20230130T194932Z-001\\Classification Dataset\\BPL-EliteView-EV100-C/hcgranchi_sicu_mon--326_2022_11_13_23_31_12.jpeg')\n",
    "cv2.imshow('image1',image)\n",
    "cv2.waitKey(0)\n",
    "cv2.destroyAllWindows()"
   ]
  },
  {
   "cell_type": "code",
   "execution_count": 7,
   "metadata": {},
   "outputs": [
    {
     "data": {
      "text/plain": [
       "['image_name',\n",
       " 'HR',\n",
       " 'SBP',\n",
       " 'DBP',\n",
       " 'MAP',\n",
       " 'SPO2',\n",
       " 'RR',\n",
       " 'HR_W',\n",
       " 'RR_W',\n",
       " 'SPO2_W']"
      ]
     },
     "execution_count": 7,
     "metadata": {},
     "output_type": "execute_result"
    }
   ],
   "source": [
    "list(df)"
   ]
  },
  {
   "cell_type": "code",
   "execution_count": 8,
   "metadata": {},
   "outputs": [],
   "source": [
    "import ast\n",
    "img_h,img_w,_=image.shape\n",
    "for i in list(df):\n",
    "    if i!='image_name':\n",
    "        k=df.loc[0].at[i]\n",
    "        k=ast.literal_eval(k)\n",
    "        x_center,y_center,w_ratio,h_ratio=k\n",
    "        x_center=x_center*img_w\n",
    "        y_center=y_center*img_h\n",
    "        roi_h=h_ratio*img_h\n",
    "        roi_w=w_ratio*img_w\n",
    "        x1=int(x_center-(roi_w/2))\n",
    "        y1=int(y_center-(roi_h/2))\n",
    "        x2=x_center+(roi_w/2)\n",
    "        y2=y_center-(roi_h/2)\n",
    "        x3=x_center-(roi_w/2)\n",
    "        y3=y_center+(roi_h/2)\n",
    "        x4=int(x_center+(roi_w/2))\n",
    "        y4=int(y_center+(roi_h/2))\n",
    "        #cv2.rectangle(image,(x1,y1),(x4,y4),(0, 255, 0), 2)\n",
    "        cv2.imshow('image1',image)\n",
    "        cv2.waitKey(0)\n",
    "        cv2.destroyAllWindows()"
   ]
  },
  {
   "cell_type": "code",
   "execution_count": 9,
   "metadata": {},
   "outputs": [],
   "source": [
    "m=df.loc[0].at['HR_W']\n",
    "m=ast.literal_eval(m)\n",
    "x_center,y_center,w_ratio,h_ratio=k\n",
    "x_center=x_center*img_w\n",
    "y_center=y_center*img_h\n",
    "roi_h=h_ratio*img_h\n",
    "roi_w=w_ratio*img_w\n",
    "x_1=int(x_center-(roi_w/2))\n",
    "y_1=int(y_center-(roi_h/2))\n",
    "x_4=int(x_center+(roi_w/2))\n",
    "y_4=int(y_center+(roi_h/2))\n",
    "roi=image[y_1:y_4,x_1:x_4]\n",
    "cv2.imshow('roi',roi)\n",
    "cv2.waitKey(0)\n",
    "cv2.destroyAllWindows()"
   ]
  },
  {
   "cell_type": "code",
   "execution_count": 10,
   "metadata": {},
   "outputs": [],
   "source": [
    "import numpy as np\n",
    "kernel = np.array([[0, -1, 0],\n",
    "                   [-1, 5,-1],\n",
    "                   [0, -1, 0]])\n",
    "image_sharp = cv2.filter2D(src=image, ddepth=-1, kernel=kernel)\n",
    "cv2.imshow('hr Sharpened', image_sharp)\n",
    "cv2.waitKey()\n",
    "cv2.destroyAllWindows()"
   ]
  },
  {
   "cell_type": "code",
   "execution_count": 11,
   "metadata": {},
   "outputs": [],
   "source": [
    "from PIL import Image, ImageFilter\n",
    "\n",
    "im1 = Image.open(r\"Classification Dataset-20230130T194932Z-001\\Classification Dataset\\BPL-EliteView-EV10-B_Meditec-England-A/aveksha_micu_mon-121_2021_11_25_8_0_3.jpeg\")\n",
    "im2 = im1.filter(ImageFilter.UnsharpMask(radius = 3, percent = 200, threshold = 5))\n",
    "im2.show()"
   ]
  },
  {
   "cell_type": "code",
   "execution_count": 12,
   "metadata": {},
   "outputs": [],
   "source": [
    "im3=Image.fromarray(image)\n",
    "im4 = im3.filter(ImageFilter.UnsharpMask(radius = 3, percent = 200, threshold = 5))\n",
    "im4.show()"
   ]
  },
  {
   "cell_type": "code",
   "execution_count": 13,
   "metadata": {},
   "outputs": [],
   "source": [
    "gray_image = cv2.cvtColor(roi, cv2.COLOR_BGR2GRAY)\n",
    "cv2.imshow('',gray_image)\n",
    "cv2.waitKey()\n",
    "cv2.destroyAllWindows()"
   ]
  },
  {
   "cell_type": "code",
   "execution_count": 14,
   "metadata": {},
   "outputs": [
    {
     "data": {
      "text/plain": [
       "(78, 763)"
      ]
     },
     "execution_count": 14,
     "metadata": {},
     "output_type": "execute_result"
    }
   ],
   "source": [
    "gray_image.shape"
   ]
  },
  {
   "cell_type": "code",
   "execution_count": 15,
   "metadata": {},
   "outputs": [
    {
     "data": {
      "image/png": "[encoded data removed]",
      "text/plain": [
       "<Figure size 3000x300 with 1 Axes>"
      ]
     },
     "metadata": {},
     "output_type": "display_data"
    }
   ],
   "source": [
    "import matplotlib.pyplot as plt\n",
    "gray_image=cv2.flip(gray_image,0)\n",
    "_, threshold = cv2.threshold(gray_image, 200, 255, cv2.THRESH_BINARY)\n",
    "cv2.imshow('',threshold)\n",
    "cv2.waitKey()\n",
    "cv2.destroyAllWindows()\n",
    "# Find the contours in the thresholded image\n",
    "contours, _ = cv2.findContours(threshold, cv2.RETR_TREE, cv2.CHAIN_APPROX_SIMPLE)\n",
    "\n",
    "# Initialize arrays to store x and y coordinates\n",
    "x = []\n",
    "y = []\n",
    "fig=plt.figure(figsize=(1000,100))\n",
    "fig.set_figwidth(30)\n",
    "fig.set_figheight(3)\n",
    "# Loop through each contour and extract the x and y coordinates\n",
    "x.append(contours[0][0][0][0])\n",
    "y.append(contours[0][0][0][1])\n",
    "x1=contours[0][0][0][0]\n",
    "y1=contours[0][0][0][1]\n",
    "for contour in contours:\n",
    "    for point in contour:\n",
    "        x2=point[0][0]\n",
    "        y2=point[0][1]\n",
    "        if ((x1-x2)**2+(y1-y2)**2)**1/2>10:\n",
    "            plt.plot(x,y,color='red')\n",
    "            x=[]\n",
    "            y=[]\n",
    "        x.append(point[0][0])\n",
    "        y.append(point[0][1])\n",
    "        x1=point[0][0]\n",
    "        y1=point[0][1]\n",
    "#x.reverse()\n",
    "#y.reverse()\n",
    "\n",
    "# Plot the extracted data\n",
    "plt.plot(x, y,color='red')\n",
    "plt.show()"
   ]
  },
  {
   "cell_type": "code",
   "execution_count": 16,
   "metadata": {},
   "outputs": [
    {
     "data": {
      "text/plain": [
       "(720, 1280, 3)"
      ]
     },
     "execution_count": 16,
     "metadata": {},
     "output_type": "execute_result"
    }
   ],
   "source": [
    "image.shape"
   ]
  },
  {
   "cell_type": "code",
   "execution_count": 17,
   "metadata": {},
   "outputs": [],
   "source": [
    "def persp_t(x1,y1,x2,y2,x3,y3,x4,y4,frame):\n",
    "    pts1 = np.float32([[x1, y1], [x2, y2],\n",
    "                       [x4, y4], [x3, y3]])\n",
    "    pts2 = np.float32([[0, 0], [1280, 0],\n",
    "                       [0, 720], [1280, 720]])\n",
    "    matrix = cv2.getPerspectiveTransform(pts1, pts2)\n",
    "    result = cv2.warpPerspective(frame, matrix, (1280,720))\n",
    "    cv2.imshow('',result)\n",
    "    cv2.waitKey()\n",
    "    cv2.destroyAllWindows()\n",
    "    return result"
   ]
  },
  {
   "cell_type": "code",
   "execution_count": 18,
   "metadata": {},
   "outputs": [
    {
     "data": {
      "text/html": [
       "<div>\n",
       "<style scoped>\n",
       "    .dataframe tbody tr th:only-of-type {\n",
       "        vertical-align: middle;\n",
       "    }\n",
       "\n",
       "    .dataframe tbody tr th {\n",
       "        vertical-align: top;\n",
       "    }\n",
       "\n",
       "    .dataframe thead th {\n",
       "        text-align: right;\n",
       "    }\n",
       "</style>\n",
       "<table border=\"1\" class=\"dataframe\">\n",
       "  <thead>\n",
       "    <tr style=\"text-align: right;\">\n",
       "      <th></th>\n",
       "      <th>image_name</th>\n",
       "      <th>points</th>\n",
       "    </tr>\n",
       "  </thead>\n",
       "  <tbody>\n",
       "    <tr>\n",
       "      <th>0</th>\n",
       "      <td>medicakolkata_mau_mon--2_2022_6_8_6_8_51.jpeg</td>\n",
       "      <td>[459.5, 169.5, 886.0999755859375, 172.19999694...</td>\n",
       "    </tr>\n",
       "    <tr>\n",
       "      <th>1</th>\n",
       "      <td>kamalnayanbajaj_micu_mon--22_2022_6_20_17_47_2...</td>\n",
       "      <td>[422.4, 158, 967.8, 135.5, 957.3, 545.2, 409.5...</td>\n",
       "    </tr>\n",
       "    <tr>\n",
       "      <th>2</th>\n",
       "      <td>kamalnayanbajaj_micu_mon--15_2022_6_20_22_46_2...</td>\n",
       "      <td>[497.4, 184.9, 792.7999877929688, 229.19999694...</td>\n",
       "    </tr>\n",
       "    <tr>\n",
       "      <th>3</th>\n",
       "      <td>medicakolkata_ccu2_mon--3_2022_5_30_12_6_19.jpeg</td>\n",
       "      <td>[353.79998779296875, 112.69999694824219, 764.2...</td>\n",
       "    </tr>\n",
       "    <tr>\n",
       "      <th>4</th>\n",
       "      <td>medicakolkata_ccu2_mon--5_2022_6_8_6_6_37.jpeg</td>\n",
       "      <td>[246.9, 155.3, 756.5999755859375, 205.89999389...</td>\n",
       "    </tr>\n",
       "  </tbody>\n",
       "</table>\n",
       "</div>"
      ],
      "text/plain": [
       "                                          image_name  \\\n",
       "0      medicakolkata_mau_mon--2_2022_6_8_6_8_51.jpeg   \n",
       "1  kamalnayanbajaj_micu_mon--22_2022_6_20_17_47_2...   \n",
       "2  kamalnayanbajaj_micu_mon--15_2022_6_20_22_46_2...   \n",
       "3   medicakolkata_ccu2_mon--3_2022_5_30_12_6_19.jpeg   \n",
       "4     medicakolkata_ccu2_mon--5_2022_6_8_6_6_37.jpeg   \n",
       "\n",
       "                                              points  \n",
       "0  [459.5, 169.5, 886.0999755859375, 172.19999694...  \n",
       "1  [422.4, 158, 967.8, 135.5, 957.3, 545.2, 409.5...  \n",
       "2  [497.4, 184.9, 792.7999877929688, 229.19999694...  \n",
       "3  [353.79998779296875, 112.69999694824219, 764.2...  \n",
       "4  [246.9, 155.3, 756.5999755859375, 205.89999389...  "
      ]
     },
     "execution_count": 18,
     "metadata": {},
     "output_type": "execute_result"
    }
   ],
   "source": [
    "df1=pd.read_csv('Step-1-20230130T194059Z-001\\Step-1\\labels.csv')\n",
    "df1.head()"
   ]
  },
  {
   "cell_type": "code",
   "execution_count": 19,
   "metadata": {},
   "outputs": [
    {
     "data": {
      "text/plain": [
       "580"
      ]
     },
     "execution_count": 19,
     "metadata": {},
     "output_type": "execute_result"
    }
   ],
   "source": [
    "k=df1[df1['image_name']=='hcgbhavnagar_micu_mon--405_2022_5_30_7_20_12.jpeg'].index.values\n",
    "k=k[0]\n",
    "k"
   ]
  },
  {
   "cell_type": "code",
   "execution_count": 20,
   "metadata": {},
   "outputs": [],
   "source": [
    "image1=cv2.imread('Step-1-20230130T194059Z-001\\Step-1\\images\\hcgbhavnagar_micu_mon--405_2022_5_30_7_20_12.jpeg')\n",
    "cv2.imshow('image1',image1)\n",
    "cv2.waitKey(0)\n",
    "cv2.destroyAllWindows()"
   ]
  },
  {
   "cell_type": "code",
   "execution_count": 21,
   "metadata": {},
   "outputs": [],
   "source": [
    "l=df1.loc[k].at['points']\n",
    "l=ast.literal_eval(l)\n",
    "perp_image=persp_t(l[0],l[1],l[2],l[3],l[4],l[5],l[6],l[7],image1)"
   ]
  },
  {
   "cell_type": "code",
   "execution_count": 22,
   "metadata": {},
   "outputs": [
    {
     "name": "stdout",
     "output_type": "stream",
     "text": [
      "[[[102  94  94]\n",
      "  [ 88  81  81]\n",
      "  [ 76  70  70]\n",
      "  ...\n",
      "  [108 103 102]\n",
      "  [108 103 102]\n",
      "  [109 104 103]]\n",
      "\n",
      " [[ 96  89  88]\n",
      "  [ 82  75  75]\n",
      "  [ 70  64  63]\n",
      "  ...\n",
      "  [ 80  75  74]\n",
      "  [ 80  75  74]\n",
      "  [ 81  76  75]]\n",
      "\n",
      " [[ 93  86  86]\n",
      "  [ 81  75  74]\n",
      "  [ 68  62  61]\n",
      "  ...\n",
      "  [ 53  48  47]\n",
      "  [ 53  48  47]\n",
      "  [ 55  50  49]]\n",
      "\n",
      " ...\n",
      "\n",
      " [[135 129 118]\n",
      "  [134 130 119]\n",
      "  [134 130 119]\n",
      "  ...\n",
      "  [ 59  42  41]\n",
      "  [ 54  37  36]\n",
      "  [ 48  32  30]]\n",
      "\n",
      " [[133 127 116]\n",
      "  [134 128 117]\n",
      "  [134 129 118]\n",
      "  ...\n",
      "  [ 58  40  39]\n",
      "  [ 53  35  34]\n",
      "  [ 48  30  29]]\n",
      "\n",
      " [[132 125 115]\n",
      "  [133 127 116]\n",
      "  [134 129 118]\n",
      "  ...\n",
      "  [ 59  41  40]\n",
      "  [ 55  37  36]\n",
      "  [ 51  33  32]]]\n"
     ]
    }
   ],
   "source": [
    "print(perp_image)"
   ]
  },
  {
   "cell_type": "code",
   "execution_count": 23,
   "metadata": {},
   "outputs": [],
   "source": [
    "import numpy as np\n",
    "kernel = np.array([[0, -1, 0],\n",
    "                   [-1, 5,-1],\n",
    "                   [0, -1, 0]])\n",
    "image_sharp = cv2.filter2D(src=perp_image, ddepth=-1, kernel=kernel)\n",
    "cv2.imshow('hr Sharpened', image_sharp)\n",
    "cv2.waitKey()\n",
    "cv2.destroyAllWindows()"
   ]
  },
  {
   "cell_type": "code",
   "execution_count": null,
   "metadata": {},
   "outputs": [],
   "source": []
  }
 ],
 "metadata": {
  "kernelspec": {
   "display_name": "base",
   "language": "python",
   "name": "python3"
  },
  "language_info": {
   "codemirror_mode": {
    "name": "ipython",
    "version": 3
   },
   "file_extension": ".py",
   "mimetype": "text/x-python",
   "name": "python",
   "nbconvert_exporter": "python",
   "pygments_lexer": "ipython3",
   "version": "3.9.12"
  },
  "orig_nbformat": 4,
  "vscode": {
   "interpreter": {
    "hash": "1edc9f3c006d43970107ce7e53cf41328985985c0ec0d6dea2a621da1a77dd4e"
   }
  }
 },
 "nbformat": 4,
 "nbformat_minor": 2
}
